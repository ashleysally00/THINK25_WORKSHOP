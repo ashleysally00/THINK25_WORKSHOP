{
  "cells": [
    {
      "cell_type": "markdown",
      "metadata": {
        "id": "view-in-github",
        "colab_type": "text"
      },
      "source": [
        "<a href=\"https://colab.research.google.com/github/ashleysally00/THINK25_WORKSHOP/blob/main/Workshop-Day2_v2-St.ipynb\" target=\"_parent\"><img src=\"https://colab.research.google.com/assets/colab-badge.svg\" alt=\"Open In Colab\"/></a>"
      ]
    },
    {
      "cell_type": "markdown",
      "id": "711b8029-7970-4d18-b50e-d06ad8712f64",
      "metadata": {
        "id": "711b8029-7970-4d18-b50e-d06ad8712f64"
      },
      "source": [
        "# **Step 1: Data Loading and Initial Exploration**\n",
        "\n",
        "## 🎯 Objective\n",
        "Begin working with the Sarcopenia dataset by exploring its structure, cleaning the data, and preparing it for machine learning modeling.\n"
      ]
    },
    {
      "cell_type": "markdown",
      "id": "47ef7ba1-18e3-44b7-bd9a-f2afc869454a",
      "metadata": {
        "id": "47ef7ba1-18e3-44b7-bd9a-f2afc869454a"
      },
      "source": [
        "## ***📥 Load the Dataset***\n",
        "- Import the dataset into a **Pandas DataFrame**.  \n",
        "- Verify that the data is loaded correctly."
      ]
    },
    {
      "cell_type": "code",
      "source": [
        "!git clone https://github.com/ashleysally00/THINK25_WORKSHOP.git"
      ],
      "metadata": {
        "id": "Of1ghNhxUl8W",
        "outputId": "635aa115-f1a3-46f4-81d3-177f888d2736",
        "colab": {
          "base_uri": "https://localhost:8080/"
        }
      },
      "id": "Of1ghNhxUl8W",
      "execution_count": 1,
      "outputs": [
        {
          "output_type": "stream",
          "name": "stdout",
          "text": [
            "Cloning into 'THINK25_WORKSHOP'...\n",
            "remote: Enumerating objects: 16, done.\u001b[K\n",
            "remote: Counting objects: 100% (16/16), done.\u001b[K\n",
            "remote: Compressing objects: 100% (16/16), done.\u001b[K\n",
            "remote: Total 16 (delta 4), reused 0 (delta 0), pack-reused 0 (from 0)\u001b[K\n",
            "Receiving objects: 100% (16/16), 689.90 KiB | 5.19 MiB/s, done.\n",
            "Resolving deltas: 100% (4/4), done.\n"
          ]
        }
      ]
    },
    {
      "cell_type": "code",
      "source": [
        "%cd THINK25_WORKSHOP"
      ],
      "metadata": {
        "id": "v_nsmyl4U-aI",
        "outputId": "6cd68515-1b1b-4191-dd7e-5f38f941eeaf",
        "colab": {
          "base_uri": "https://localhost:8080/"
        }
      },
      "id": "v_nsmyl4U-aI",
      "execution_count": 2,
      "outputs": [
        {
          "output_type": "stream",
          "name": "stdout",
          "text": [
            "/content/THINK25_WORKSHOP\n"
          ]
        }
      ]
    },
    {
      "cell_type": "code",
      "source": [
        "!ls\n"
      ],
      "metadata": {
        "id": "4DYoUO1KVX7j",
        "outputId": "999f71fe-8f5f-46d2-b3bd-78edf74cbc6e",
        "colab": {
          "base_uri": "https://localhost:8080/"
        }
      },
      "id": "4DYoUO1KVX7j",
      "execution_count": 3,
      "outputs": [
        {
          "output_type": "stream",
          "name": "stdout",
          "text": [
            "Cleaned_Sarcopenia_Data.csv  Sampled_Sarcopenia_Data.csv  Workshop-Day2_v1.ipynb\n",
            "female_model.pkl\t     Workshop-Day1_v2-Sol.ipynb\n",
            "male_model.pkl\t\t     Workshop-Day1_v2-St.ipynb\n"
          ]
        }
      ]
    },
    {
      "cell_type": "code",
      "source": [
        "!pwd"
      ],
      "metadata": {
        "id": "UkuzzJZrVjeD",
        "outputId": "2d4bc522-93af-408f-b3bc-e34b4e5d3901",
        "colab": {
          "base_uri": "https://localhost:8080/"
        }
      },
      "id": "UkuzzJZrVjeD",
      "execution_count": 4,
      "outputs": [
        {
          "output_type": "stream",
          "name": "stdout",
          "text": [
            "/content/THINK25_WORKSHOP\n"
          ]
        }
      ]
    },
    {
      "cell_type": "markdown",
      "source": [],
      "metadata": {
        "id": "weHWgi5VVojE"
      },
      "id": "weHWgi5VVojE"
    },
    {
      "cell_type": "code",
      "source": [
        "!ls\n"
      ],
      "metadata": {
        "id": "WH_RwI0GVpNz",
        "outputId": "4e58bd2e-11cc-4d75-8eb2-1e10dc9fa6b0",
        "colab": {
          "base_uri": "https://localhost:8080/"
        }
      },
      "id": "WH_RwI0GVpNz",
      "execution_count": 5,
      "outputs": [
        {
          "output_type": "stream",
          "name": "stdout",
          "text": [
            "Cleaned_Sarcopenia_Data.csv  Sampled_Sarcopenia_Data.csv  Workshop-Day2_v1.ipynb\n",
            "female_model.pkl\t     Workshop-Day1_v2-Sol.ipynb\n",
            "male_model.pkl\t\t     Workshop-Day1_v2-St.ipynb\n"
          ]
        }
      ]
    },
    {
      "cell_type": "code",
      "execution_count": null,
      "id": "06fde7d5-a296-4cd7-bdc4-38aac2f843a0",
      "metadata": {
        "tags": [],
        "id": "06fde7d5-a296-4cd7-bdc4-38aac2f843a0",
        "outputId": "b42f2f23-0dce-468d-cb9c-700316171b90"
      },
      "outputs": [
        {
          "name": "stdout",
          "output_type": "stream",
          "text": [
            "✅ Dataset loaded successfully.\n"
          ]
        }
      ],
      "source": [
        "import pandas as pd\n",
        "import numpy as np\n",
        "import matplotlib.pyplot as plt\n",
        "# Load the dataset\n",
        "df = pd.read_csv(\"Sampled_Sarcopenia_Data.csv\")\n",
        "print(\"✅ Dataset loaded successfully.\")"
      ]
    },
    {
      "cell_type": "markdown",
      "id": "c4f4a9f8-0e40-47ac-9135-d23bc5f66cef",
      "metadata": {
        "id": "c4f4a9f8-0e40-47ac-9135-d23bc5f66cef"
      },
      "source": [
        "## ***📊 Check Dataset Size***\n",
        "- Identify the number of **rows** (*patients*) and **columns** (*features*)."
      ]
    },
    {
      "cell_type": "code",
      "execution_count": null,
      "id": "444ab12c-ebae-4d0b-aecd-c3c70e21cef4",
      "metadata": {
        "tags": [],
        "id": "444ab12c-ebae-4d0b-aecd-c3c70e21cef4",
        "outputId": "3b0538b4-96f0-4cbe-c678-ec1c8d55728d"
      },
      "outputs": [
        {
          "data": {
            "text/plain": [
              "(1499, 41)"
            ]
          },
          "execution_count": 24,
          "metadata": {},
          "output_type": "execute_result"
        }
      ],
      "source": [
        "df.shape"
      ]
    },
    {
      "cell_type": "code",
      "execution_count": null,
      "id": "f933c33b-5e7a-4461-a13f-c46b091ff515",
      "metadata": {
        "tags": [],
        "id": "f933c33b-5e7a-4461-a13f-c46b091ff515",
        "outputId": "2ebcc372-d6ae-4aad-b991-3b6c6d1363e3"
      },
      "outputs": [
        {
          "name": "stdout",
          "output_type": "stream",
          "text": [
            "Dataset Shape: Ellipsis rows and Ellipsis columns.\n"
          ]
        }
      ],
      "source": [
        "# Check the shape of the dataset\n",
        "print(f\"Dataset Shape: {...} rows and {...} columns.\")"
      ]
    },
    {
      "cell_type": "markdown",
      "id": "09105297-eeb6-4257-9a9a-ac5f51fd6927",
      "metadata": {
        "tags": [],
        "id": "09105297-eeb6-4257-9a9a-ac5f51fd6927"
      },
      "source": [
        "## ***📝 Review Column Names and Data Types***\n",
        "- Understand what features are included in the dataset.  \n",
        "- Identify the **target variable** for prediction (**Sarcopenia**).\n",
        "\n"
      ]
    },
    {
      "cell_type": "code",
      "execution_count": null,
      "id": "5ffdedb4-d9c6-46fe-a7d4-ef7d45675f71",
      "metadata": {
        "tags": [],
        "id": "5ffdedb4-d9c6-46fe-a7d4-ef7d45675f71",
        "outputId": "41134369-e8a4-4f88-be53-2af0c2dcf010"
      },
      "outputs": [
        {
          "data": {
            "text/plain": [
              "Index(['MMSE', 'Age', 'Weight ', 'Height ', 'Waist ', 'Hip', 'Smoking',\n",
              "       ' Smoking (packet/year)', '  Alcohol', 'DM ', 'Diabetes Duration',\n",
              "       'Insulin', 'Diabetes Drug', 'Hyperlipidemia', 'Hyperlipidemia Duration',\n",
              "       'Dyslipidemia drugs ', 'Coronary Artery Disease', 'KAH duration',\n",
              "       'Hypothyroidism', 'Asthma', 'COPD', 'OP', 'Other(s)', 'HT',\n",
              "       'Anti-HT Drug Type', 'HT duration', 'N_AntiHT',\n",
              "       '1st anti-HT (active ingredient)', 'Duratin of drug use', 'Education',\n",
              "       'Occupation', 'Working Status', 'Exercise', 'AT', 'CST', 'Gait Speed',\n",
              "       'Grip Strength', 'STAR', 'BMI', 'Sarcopenia', 'Gender'],\n",
              "      dtype='object')"
            ]
          },
          "execution_count": 26,
          "metadata": {},
          "output_type": "execute_result"
        }
      ],
      "source": [
        "df.columns"
      ]
    },
    {
      "cell_type": "code",
      "execution_count": null,
      "id": "c8f56197-5593-4662-8f58-4ab4e1d12ce5",
      "metadata": {
        "tags": [],
        "id": "c8f56197-5593-4662-8f58-4ab4e1d12ce5"
      },
      "outputs": [],
      "source": [
        "#Print the columns from second to fifth\n",
        "df.columns[?:?]"
      ]
    },
    {
      "cell_type": "code",
      "execution_count": null,
      "id": "95ee11a8-c9f0-4f1a-88da-fde985e0d6b3",
      "metadata": {
        "tags": [],
        "id": "95ee11a8-c9f0-4f1a-88da-fde985e0d6b3",
        "outputId": "621e4f71-c125-4630-f796-52078c622d3e"
      },
      "outputs": [
        {
          "data": {
            "text/plain": [
              "Index(['MMSE', 'Age', 'Weight', 'Height', 'Waist', 'Hip', 'Smoking',\n",
              "       'Smoking (packet/year)', 'Alcohol', 'DM', 'Diabetes Duration',\n",
              "       'Insulin', 'Diabetes Drug', 'Hyperlipidemia', 'Hyperlipidemia Duration',\n",
              "       'Dyslipidemia drugs', 'Coronary Artery Disease', 'KAH duration',\n",
              "       'Hypothyroidism', 'Asthma', 'COPD', 'OP', 'Other(s)', 'HT',\n",
              "       'Anti-HT Drug Type', 'HT duration', 'N_AntiHT',\n",
              "       '1st anti-HT (active ingredient)', 'Duratin of drug use', 'Education',\n",
              "       'Occupation', 'Working Status', 'Exercise', 'AT', 'CST', 'Gait Speed',\n",
              "       'Grip Strength', 'STAR', 'BMI', 'Sarcopenia', 'Gender'],\n",
              "      dtype='object')"
            ]
          },
          "execution_count": 29,
          "metadata": {},
          "output_type": "execute_result"
        }
      ],
      "source": [
        "# Remove leading and trailing spaces from column names\n",
        "df.columns = df.columns.str.strip()\n",
        "df.columns"
      ]
    },
    {
      "cell_type": "code",
      "execution_count": null,
      "id": "f1f2bbd9-1c25-4a09-84a8-a983a058df9b",
      "metadata": {
        "tags": [],
        "id": "f1f2bbd9-1c25-4a09-84a8-a983a058df9b"
      },
      "outputs": [],
      "source": [
        "# Display the columns and data types\n",
        "#What do you observe?\n",
        "df........."
      ]
    },
    {
      "cell_type": "markdown",
      "id": "2c8d0a9d-e0bd-4549-b93b-df14936b356b",
      "metadata": {
        "id": "2c8d0a9d-e0bd-4549-b93b-df14936b356b"
      },
      "source": [
        "## ***📌 Select Relevant Features***\n",
        "- Keep only the features important for modeling.  \n",
        "- Drop any **unnecessary** or **irrelevant** columns."
      ]
    },
    {
      "cell_type": "code",
      "execution_count": null,
      "id": "52b41a55-c675-423f-b549-f31e8a7c6f1b",
      "metadata": {
        "tags": [],
        "id": "52b41a55-c675-423f-b549-f31e8a7c6f1b"
      },
      "outputs": [],
      "source": [
        "# Select relevant features for modeling\n",
        "selected_features = ['Age', 'Gender', 'Weight', 'Height', 'DM', 'CST', 'HT',\n",
        "                     'BMI', 'Exercise', 'Education', 'Smoking', 'STAR','Grip Strength', 'Sarcopenia']\n",
        "\n",
        "# keep only the selected features\n",
        "df = .............."
      ]
    },
    {
      "cell_type": "markdown",
      "id": "faf3c606-b413-49fa-8ffa-2b12768cef63",
      "metadata": {
        "id": "faf3c606-b413-49fa-8ffa-2b12768cef63"
      },
      "source": [
        "## ***🔎 Identify and Handle Missing Values***\n",
        "- Detect any **missing** or **invalid** data.  \n",
        "- Decide whether to:\n",
        "  - **Drop** rows with missing values,  \n",
        "  - **Impute** missing values, or  \n",
        "  - **Replace** invalid data."
      ]
    },
    {
      "cell_type": "code",
      "execution_count": null,
      "id": "dc6f6652-91b5-4948-8fd6-efd04d3fbd03",
      "metadata": {
        "tags": [],
        "id": "dc6f6652-91b5-4948-8fd6-efd04d3fbd03",
        "outputId": "25609050-3faa-4501-88af-f2e61c6b6447"
      },
      "outputs": [
        {
          "name": "stdout",
          "output_type": "stream",
          "text": [
            "Age               48\n",
            "Gender             2\n",
            "Weight            79\n",
            "Height            52\n",
            "DM                 2\n",
            "CST              216\n",
            "HT                 2\n",
            "BMI              559\n",
            "Exercise           5\n",
            "Education         14\n",
            "Smoking            2\n",
            "STAR             152\n",
            "Grip Strength     56\n",
            "Sarcopenia         2\n",
            "dtype: int64\n"
          ]
        }
      ],
      "source": [
        "# Get unique value counts for each column\n",
        "unique_counts = df.nunique()\n",
        "\n",
        "# Display the results\n",
        "print(unique_counts)"
      ]
    },
    {
      "cell_type": "code",
      "execution_count": null,
      "id": "5c6249ac-dcbe-4cfc-8a7e-32ad5b4c5f31",
      "metadata": {
        "tags": [],
        "id": "5c6249ac-dcbe-4cfc-8a7e-32ad5b4c5f31"
      },
      "outputs": [],
      "source": [
        "#display the unique values for 'Education'\n",
        ".............."
      ]
    },
    {
      "cell_type": "code",
      "execution_count": null,
      "id": "77639a1a-4bac-4ac9-92b5-88c9bccdf504",
      "metadata": {
        "tags": [],
        "id": "77639a1a-4bac-4ac9-92b5-88c9bccdf504"
      },
      "outputs": [],
      "source": [
        "#count number of observations for each unique value of 'Education'\n",
        "................."
      ]
    },
    {
      "cell_type": "code",
      "execution_count": null,
      "id": "a2cf02af-1a39-481a-86b9-266ace7c679b",
      "metadata": {
        "tags": [],
        "id": "a2cf02af-1a39-481a-86b9-266ace7c679b",
        "outputId": "d6f9a991-6885-427e-89fb-9567ce121ea5"
      },
      "outputs": [
        {
          "name": "stdout",
          "output_type": "stream",
          "text": [
            "\n",
            "Unique values and their counts in 'Gender':\n",
            "Gender\n",
            "F    867\n",
            "M    294\n",
            "Name: count, dtype: int64\n",
            "\n",
            "Unique values and their counts in 'DM':\n",
            "DM\n",
            "0.0    803\n",
            "1.0    358\n",
            "Name: count, dtype: int64\n",
            "\n",
            "Unique values and their counts in 'HT':\n",
            "HT\n",
            "1.0    674\n",
            "0.0    485\n",
            "Name: count, dtype: int64\n",
            "\n",
            "Unique values and their counts in 'Exercise':\n",
            "Exercise\n",
            "0           701\n",
            "3-4/week    262\n",
            "1-2/week    145\n",
            "3-4 hf       26\n",
            "1-2 hf        9\n",
            "Name: count, dtype: int64\n",
            "\n",
            "Unique values and their counts in 'Education':\n",
            "Education\n",
            "Primary School      482\n",
            "High School         178\n",
            "University          142\n",
            "illiterate          119\n",
            "Secondary School    118\n",
            "ilkokul              43\n",
            "Primary shool        28\n",
            "lise                 12\n",
            "okuryazar değil       6\n",
            "university            6\n",
            "ortaokul              3\n",
            "üniversite            3\n",
            "high school           3\n",
            "primary school        2\n",
            "Name: count, dtype: int64\n",
            "\n",
            "Unique values and their counts in 'Smoking':\n",
            "Smoking\n",
            "0.0    783\n",
            "1.0    378\n",
            "Name: count, dtype: int64\n",
            "\n",
            "Unique values and their counts in 'Sarcopenia':\n",
            "Sarcopenia\n",
            "0.0    931\n",
            "1.0    228\n",
            "Name: count, dtype: int64\n"
          ]
        }
      ],
      "source": [
        "# Loop through columns and print unique values with their counts for columns with less than 20 unique values\n",
        "for col in df.columns:\n",
        "    if df[col].nunique() < 20:\n",
        "        print(f\"\\nUnique values and their counts in '{col}':\")\n",
        "        print(df[col].value_counts())"
      ]
    },
    {
      "cell_type": "code",
      "execution_count": null,
      "id": "2e75eb25-30d8-4796-92ee-2007d981ef83",
      "metadata": {
        "tags": [],
        "id": "2e75eb25-30d8-4796-92ee-2007d981ef83"
      },
      "outputs": [],
      "source": [
        "# Check for missing values in the dataset\n",
        "missing_values = ....................."
      ]
    },
    {
      "cell_type": "code",
      "execution_count": null,
      "id": "d38f0829-00d0-4227-8983-370fa76d1677",
      "metadata": {
        "id": "d38f0829-00d0-4227-8983-370fa76d1677"
      },
      "outputs": [],
      "source": [
        "print(\"\\n🔍 Missing Values in Each Column:\\n\")\n",
        "........................\n"
      ]
    },
    {
      "cell_type": "code",
      "execution_count": null,
      "id": "b6422ee7-9b08-40a0-ba51-abb0e7086763",
      "metadata": {
        "id": "b6422ee7-9b08-40a0-ba51-abb0e7086763"
      },
      "outputs": [],
      "source": [
        "# Drop rows with missing values\n",
        "............................"
      ]
    },
    {
      "cell_type": "code",
      "execution_count": null,
      "id": "6c5e3492-b941-44bd-a52a-f2b5bcd773c5",
      "metadata": {
        "id": "6c5e3492-b941-44bd-a52a-f2b5bcd773c5"
      },
      "outputs": [],
      "source": [
        "print(f\"\\n✅ After dropping missing values, dataset shape: {df.shape}\")"
      ]
    },
    {
      "cell_type": "code",
      "execution_count": null,
      "id": "352806b2-e4e3-4bba-9a67-f2473ce33768",
      "metadata": {
        "tags": [],
        "id": "352806b2-e4e3-4bba-9a67-f2473ce33768"
      },
      "outputs": [],
      "source": [
        "#rename 'Grip Strength' to 'HGS' and 'Sarcopenia' to 'Sarc'\n",
        "..............................."
      ]
    },
    {
      "cell_type": "code",
      "execution_count": null,
      "id": "ed0fd24f-913b-4c2f-af25-359f5af1d96a",
      "metadata": {
        "tags": [],
        "id": "ed0fd24f-913b-4c2f-af25-359f5af1d96a"
      },
      "outputs": [],
      "source": [
        "# List of columns to clean and encode\n",
        "cols_to_clean = ['Gender', 'DM', 'HT', 'Exercise', 'Education', 'Smoking', 'HGS','Sarc']\n",
        "\n",
        "#  Encode 'Exercise'\n",
        "exercise_map = {\n",
        "    '0': 0,\n",
        "    '1-2/week': 1,\n",
        "    '1-2 hf': 1,\n",
        "    '3-4/week': 2,\n",
        "    '3-4 hf': 2\n",
        "}\n",
        "df['Exercise'] = df['Exercise'].map(exercise_map).astype(int)\n",
        "\n",
        "# Encode 'Education'\n",
        "education_map = {\n",
        "    'illiterate': 0,\n",
        "    'okuryazar değil': 0,\n",
        "    'Primary School': 1,\n",
        "    'primary school': 1,\n",
        "    'ilkokul': 1,\n",
        "    'Primary shool': 1,\n",
        "    'Secondary School': 2,\n",
        "    'ortaokul': 2,\n",
        "    'High School': 3,\n",
        "    'high school': 3,\n",
        "    'lise': 3,\n",
        "    'University': 4,\n",
        "    'university': 4,\n",
        "    'üniversite': 4\n",
        "}\n",
        "df['Education'] = df['Education'].map(education_map).astype(int)\n",
        "\n",
        "# Encode 'Smoking': 0 -> Non-smoker, 1 -> Smoker\n",
        "df.loc[:,'Smoking'] = df['Smoking'].astype(int)"
      ]
    },
    {
      "cell_type": "code",
      "execution_count": null,
      "id": "659f3062-05a5-4a04-941f-33acb526e755",
      "metadata": {
        "tags": [],
        "id": "659f3062-05a5-4a04-941f-33acb526e755"
      },
      "outputs": [],
      "source": [
        "# Encode 'Gender': F -> 0, M -> 1\n",
        "................................."
      ]
    },
    {
      "cell_type": "code",
      "execution_count": null,
      "id": "d74e3b75-8457-4ffd-8393-bced6162634b",
      "metadata": {
        "tags": [],
        "id": "d74e3b75-8457-4ffd-8393-bced6162634b",
        "outputId": "b7efcd0b-bfc8-4b2f-b81c-3f538a3e037b"
      },
      "outputs": [
        {
          "data": {
            "text/html": [
              "<div>\n",
              "<style scoped>\n",
              "    .dataframe tbody tr th:only-of-type {\n",
              "        vertical-align: middle;\n",
              "    }\n",
              "\n",
              "    .dataframe tbody tr th {\n",
              "        vertical-align: top;\n",
              "    }\n",
              "\n",
              "    .dataframe thead th {\n",
              "        text-align: right;\n",
              "    }\n",
              "</style>\n",
              "<table border=\"1\" class=\"dataframe\">\n",
              "  <thead>\n",
              "    <tr style=\"text-align: right;\">\n",
              "      <th></th>\n",
              "      <th>Age</th>\n",
              "      <th>Gender</th>\n",
              "      <th>Weight</th>\n",
              "      <th>Height</th>\n",
              "      <th>DM</th>\n",
              "      <th>CST</th>\n",
              "      <th>HT</th>\n",
              "      <th>BMI</th>\n",
              "      <th>Exercise</th>\n",
              "      <th>Education</th>\n",
              "      <th>Smoking</th>\n",
              "      <th>STAR</th>\n",
              "      <th>HGS</th>\n",
              "      <th>Sarc</th>\n",
              "    </tr>\n",
              "  </thead>\n",
              "  <tbody>\n",
              "    <tr>\n",
              "      <th>0</th>\n",
              "      <td>56.0</td>\n",
              "      <td>0</td>\n",
              "      <td>83.0</td>\n",
              "      <td>159.0</td>\n",
              "      <td>0.0</td>\n",
              "      <td>9.10</td>\n",
              "      <td>1.0</td>\n",
              "      <td>32.80</td>\n",
              "      <td>0</td>\n",
              "      <td>1</td>\n",
              "      <td>0.0</td>\n",
              "      <td>1.26</td>\n",
              "      <td>34.0</td>\n",
              "      <td>0.0</td>\n",
              "    </tr>\n",
              "    <tr>\n",
              "      <th>1</th>\n",
              "      <td>52.0</td>\n",
              "      <td>0</td>\n",
              "      <td>75.0</td>\n",
              "      <td>162.0</td>\n",
              "      <td>1.0</td>\n",
              "      <td>9.30</td>\n",
              "      <td>0.0</td>\n",
              "      <td>28.58</td>\n",
              "      <td>0</td>\n",
              "      <td>4</td>\n",
              "      <td>0.0</td>\n",
              "      <td>1.63</td>\n",
              "      <td>28.0</td>\n",
              "      <td>0.0</td>\n",
              "    </tr>\n",
              "    <tr>\n",
              "      <th>2</th>\n",
              "      <td>67.0</td>\n",
              "      <td>0</td>\n",
              "      <td>79.0</td>\n",
              "      <td>150.0</td>\n",
              "      <td>1.0</td>\n",
              "      <td>11.32</td>\n",
              "      <td>1.0</td>\n",
              "      <td>35.11</td>\n",
              "      <td>0</td>\n",
              "      <td>1</td>\n",
              "      <td>0.0</td>\n",
              "      <td>1.03</td>\n",
              "      <td>22.0</td>\n",
              "      <td>0.0</td>\n",
              "    </tr>\n",
              "    <tr>\n",
              "      <th>3</th>\n",
              "      <td>60.0</td>\n",
              "      <td>0</td>\n",
              "      <td>60.0</td>\n",
              "      <td>155.0</td>\n",
              "      <td>0.0</td>\n",
              "      <td>11.20</td>\n",
              "      <td>0.0</td>\n",
              "      <td>24.97</td>\n",
              "      <td>2</td>\n",
              "      <td>1</td>\n",
              "      <td>0.0</td>\n",
              "      <td>1.78</td>\n",
              "      <td>28.0</td>\n",
              "      <td>0.0</td>\n",
              "    </tr>\n",
              "    <tr>\n",
              "      <th>4</th>\n",
              "      <td>66.0</td>\n",
              "      <td>0</td>\n",
              "      <td>84.0</td>\n",
              "      <td>157.0</td>\n",
              "      <td>1.0</td>\n",
              "      <td>13.40</td>\n",
              "      <td>1.0</td>\n",
              "      <td>34.00</td>\n",
              "      <td>0</td>\n",
              "      <td>1</td>\n",
              "      <td>0.0</td>\n",
              "      <td>0.74</td>\n",
              "      <td>16.0</td>\n",
              "      <td>1.0</td>\n",
              "    </tr>\n",
              "  </tbody>\n",
              "</table>\n",
              "</div>"
            ],
            "text/plain": [
              "    Age  Gender  Weight  Height   DM    CST   HT    BMI  Exercise  Education  \\\n",
              "0  56.0       0    83.0   159.0  0.0   9.10  1.0  32.80         0          1   \n",
              "1  52.0       0    75.0   162.0  1.0   9.30  0.0  28.58         0          4   \n",
              "2  67.0       0    79.0   150.0  1.0  11.32  1.0  35.11         0          1   \n",
              "3  60.0       0    60.0   155.0  0.0  11.20  0.0  24.97         2          1   \n",
              "4  66.0       0    84.0   157.0  1.0  13.40  1.0  34.00         0          1   \n",
              "\n",
              "   Smoking  STAR   HGS  Sarc  \n",
              "0      0.0  1.26  34.0   0.0  \n",
              "1      0.0  1.63  28.0   0.0  \n",
              "2      0.0  1.03  22.0   0.0  \n",
              "3      0.0  1.78  28.0   0.0  \n",
              "4      0.0  0.74  16.0   1.0  "
            ]
          },
          "execution_count": 40,
          "metadata": {},
          "output_type": "execute_result"
        }
      ],
      "source": [
        "\n",
        "#  Ensure 'DM', 'HT', 'Sarcopenia' are integers\n",
        "df.loc[:,'DM'] = df['DM'].astype(int)\n",
        "df.loc[:,'HT'] = df['HT'].astype(int)\n",
        "df.loc[:,'Sarc'] = df['Sarc'].astype(int)\n",
        "\n",
        "# Display the cleaned and encoded DataFrame\n",
        "df.head()"
      ]
    },
    {
      "cell_type": "markdown",
      "id": "ef06cccb-0a56-4f1a-9d40-5d37ef0b3c68",
      "metadata": {
        "id": "ef06cccb-0a56-4f1a-9d40-5d37ef0b3c68"
      },
      "source": [
        "## ***⚠️ Check for Non-Numeric Data in Numeric Columns***\n",
        "- Identify if any **numeric columns** contain **non-numeric values** (e.g., strings or symbols).  \n",
        "- **Clean** or **convert** these values appropriately."
      ]
    },
    {
      "cell_type": "code",
      "execution_count": null,
      "id": "2c786ed6-589d-477d-923c-c5ead9541ec3",
      "metadata": {
        "tags": [],
        "id": "2c786ed6-589d-477d-923c-c5ead9541ec3"
      },
      "outputs": [],
      "source": [
        "# Check for non-numeric values in numeric columns\n",
        "for col in ['Age', 'Weight', 'Height', 'CST', 'BMI', 'STAR']:\n",
        "    non_numeric = df[col].apply(lambda x: pd.to_numeric(x, errors='coerce')).isna() & df[col].notna()\n",
        "    if non_numeric.any():\n",
        "        print(f\"⚠️ Non-numeric values found in column '{col}': {df[col][non_numeric].unique()}\")"
      ]
    },
    {
      "cell_type": "markdown",
      "id": "f6390c8d-8797-403e-a59e-13b27def0338",
      "metadata": {
        "tags": [],
        "id": "f6390c8d-8797-403e-a59e-13b27def0338"
      },
      "source": [
        "## ***📊 Display Basic Statistics***\n",
        "- Use **descriptive statistics** to understand the data distribution:  \n",
        "  - **Mean**, **Standard Deviation**, **Minimum**, and **Maximum** values."
      ]
    },
    {
      "cell_type": "code",
      "execution_count": null,
      "id": "da2f9941-0d69-40bf-a1e6-3542f9fc33eb",
      "metadata": {
        "tags": [],
        "id": "da2f9941-0d69-40bf-a1e6-3542f9fc33eb"
      },
      "outputs": [],
      "source": [
        "# Display basic statistics for numeric columns\n",
        "......................"
      ]
    },
    {
      "cell_type": "code",
      "execution_count": null,
      "id": "875618a7-d75a-4b39-b1b9-4bec4a33dd33",
      "metadata": {
        "tags": [],
        "id": "875618a7-d75a-4b39-b1b9-4bec4a33dd33"
      },
      "outputs": [],
      "source": [
        "df = df.reset_index()\n",
        "df.rename(columns={'index':\"ID\"}, inplace=True)"
      ]
    },
    {
      "cell_type": "markdown",
      "id": "51c282fd-ce05-4030-ba06-c8776a356e39",
      "metadata": {
        "id": "51c282fd-ce05-4030-ba06-c8776a356e39"
      },
      "source": [
        "# **📊 Step 2: Exploratory Data Analysis (EDA)**\n",
        "\n",
        "## 🎯 **Objective**\n",
        "Gain insights into the dataset by exploring how features differ across **Gender** and **Sarcopenia** status. This analysis will help uncover important patterns and relationships before building predictive models.\n",
        "\n",
        "---\n",
        "\n",
        "## **🔖 Instructions**\n",
        "\n",
        "1. **Understand Feature Distributions Across Genders**  \n",
        "   - Visualize how numerical features differ between **Male** and **Female** patients.\n",
        "\n",
        "2. **Analyze Data Grouped by Gender and Sarcopenia**  \n",
        "   - Check how features vary when grouped by both **Gender** and **Sarcopenia** status.\n",
        "\n",
        "3. **Perform Statistical Testing**  \n",
        "   - Use statistical tests (e.g., **t-test**) to check if the differences between groups are statistically significant.\n",
        "\n",
        "---"
      ]
    },
    {
      "cell_type": "markdown",
      "id": "b003e0e9-9fa2-4b77-8c53-0df8787629fb",
      "metadata": {
        "id": "b003e0e9-9fa2-4b77-8c53-0df8787629fb"
      },
      "source": [
        "### **📊 1. Compare Feature Distributions Across Genders**"
      ]
    },
    {
      "cell_type": "code",
      "execution_count": null,
      "id": "59d5757f-e4db-4770-9da1-ce0af1bc4cd0",
      "metadata": {
        "tags": [],
        "id": "59d5757f-e4db-4770-9da1-ce0af1bc4cd0",
        "outputId": "411939b1-3748-4e82-e214-bca2564b17c5"
      },
      "outputs": [
        {
          "data": {
            "text/html": [
              "<div>\n",
              "<style scoped>\n",
              "    .dataframe tbody tr th:only-of-type {\n",
              "        vertical-align: middle;\n",
              "    }\n",
              "\n",
              "    .dataframe tbody tr th {\n",
              "        vertical-align: top;\n",
              "    }\n",
              "\n",
              "    .dataframe thead tr th {\n",
              "        text-align: left;\n",
              "    }\n",
              "\n",
              "    .dataframe thead tr:last-of-type th {\n",
              "        text-align: right;\n",
              "    }\n",
              "</style>\n",
              "<table border=\"1\" class=\"dataframe\">\n",
              "  <thead>\n",
              "    <tr>\n",
              "      <th></th>\n",
              "      <th colspan=\"3\" halign=\"left\">Age</th>\n",
              "      <th colspan=\"3\" halign=\"left\">Weight</th>\n",
              "      <th colspan=\"3\" halign=\"left\">Height</th>\n",
              "      <th colspan=\"3\" halign=\"left\">CST</th>\n",
              "      <th colspan=\"3\" halign=\"left\">BMI</th>\n",
              "      <th colspan=\"3\" halign=\"left\">STAR</th>\n",
              "    </tr>\n",
              "    <tr>\n",
              "      <th></th>\n",
              "      <th>min</th>\n",
              "      <th>mean</th>\n",
              "      <th>max</th>\n",
              "      <th>min</th>\n",
              "      <th>mean</th>\n",
              "      <th>max</th>\n",
              "      <th>min</th>\n",
              "      <th>mean</th>\n",
              "      <th>max</th>\n",
              "      <th>min</th>\n",
              "      <th>mean</th>\n",
              "      <th>max</th>\n",
              "      <th>min</th>\n",
              "      <th>mean</th>\n",
              "      <th>max</th>\n",
              "      <th>min</th>\n",
              "      <th>mean</th>\n",
              "      <th>max</th>\n",
              "    </tr>\n",
              "    <tr>\n",
              "      <th>Gender</th>\n",
              "      <th></th>\n",
              "      <th></th>\n",
              "      <th></th>\n",
              "      <th></th>\n",
              "      <th></th>\n",
              "      <th></th>\n",
              "      <th></th>\n",
              "      <th></th>\n",
              "      <th></th>\n",
              "      <th></th>\n",
              "      <th></th>\n",
              "      <th></th>\n",
              "      <th></th>\n",
              "      <th></th>\n",
              "      <th></th>\n",
              "      <th></th>\n",
              "      <th></th>\n",
              "      <th></th>\n",
              "    </tr>\n",
              "  </thead>\n",
              "  <tbody>\n",
              "    <tr>\n",
              "      <th>0</th>\n",
              "      <td>44.0</td>\n",
              "      <td>61.693853</td>\n",
              "      <td>92.0</td>\n",
              "      <td>34.0</td>\n",
              "      <td>75.901891</td>\n",
              "      <td>137.0</td>\n",
              "      <td>125.0</td>\n",
              "      <td>156.51773</td>\n",
              "      <td>180.0</td>\n",
              "      <td>1.1</td>\n",
              "      <td>11.591099</td>\n",
              "      <td>50.0</td>\n",
              "      <td>13.93</td>\n",
              "      <td>31.094267</td>\n",
              "      <td>56.0</td>\n",
              "      <td>0.39</td>\n",
              "      <td>1.142199</td>\n",
              "      <td>2.33</td>\n",
              "    </tr>\n",
              "    <tr>\n",
              "      <th>1</th>\n",
              "      <td>45.0</td>\n",
              "      <td>62.709790</td>\n",
              "      <td>92.0</td>\n",
              "      <td>45.0</td>\n",
              "      <td>81.979021</td>\n",
              "      <td>133.0</td>\n",
              "      <td>150.0</td>\n",
              "      <td>169.86014</td>\n",
              "      <td>196.0</td>\n",
              "      <td>5.0</td>\n",
              "      <td>10.707168</td>\n",
              "      <td>30.0</td>\n",
              "      <td>17.15</td>\n",
              "      <td>28.477483</td>\n",
              "      <td>51.5</td>\n",
              "      <td>0.77</td>\n",
              "      <td>1.468986</td>\n",
              "      <td>2.57</td>\n",
              "    </tr>\n",
              "  </tbody>\n",
              "</table>\n",
              "</div>"
            ],
            "text/plain": [
              "         Age                  Weight                   Height             \\\n",
              "         min       mean   max    min       mean    max    min       mean   \n",
              "Gender                                                                     \n",
              "0       44.0  61.693853  92.0   34.0  75.901891  137.0  125.0  156.51773   \n",
              "1       45.0  62.709790  92.0   45.0  81.979021  133.0  150.0  169.86014   \n",
              "\n",
              "               CST                     BMI                   STAR            \\\n",
              "          max  min       mean   max    min       mean   max   min      mean   \n",
              "Gender                                                                        \n",
              "0       180.0  1.1  11.591099  50.0  13.93  31.094267  56.0  0.39  1.142199   \n",
              "1       196.0  5.0  10.707168  30.0  17.15  28.477483  51.5  0.77  1.468986   \n",
              "\n",
              "              \n",
              "         max  \n",
              "Gender        \n",
              "0       2.33  \n",
              "1       2.57  "
            ]
          },
          "execution_count": 44,
          "metadata": {},
          "output_type": "execute_result"
        }
      ],
      "source": [
        "gender_summary = df.groupby('Gender')[['Age', 'Weight', 'Height', 'CST', 'BMI', 'STAR']].agg(['min','mean', 'max'])\n",
        "gender_summary"
      ]
    },
    {
      "cell_type": "code",
      "execution_count": null,
      "id": "ac4fcd48-72bb-4710-85d1-ff1b98e4ba0c",
      "metadata": {
        "tags": [],
        "id": "ac4fcd48-72bb-4710-85d1-ff1b98e4ba0c"
      },
      "outputs": [],
      "source": [
        "#group the data by gender and sarcasm and find the mean for Age for each group\n",
        ".................................."
      ]
    },
    {
      "cell_type": "markdown",
      "id": "336a7e61-9554-484e-82af-05e2d68fd179",
      "metadata": {
        "tags": [],
        "id": "336a7e61-9554-484e-82af-05e2d68fd179"
      },
      "source": [
        "### **📊 2. Visualize Feature Distributions by Gender**"
      ]
    },
    {
      "cell_type": "code",
      "execution_count": null,
      "id": "dc0491cf-12da-4489-8c3d-a3af3a949808",
      "metadata": {
        "tags": [],
        "id": "dc0491cf-12da-4489-8c3d-a3af3a949808",
        "outputId": "13200549-8c89-4d85-b4c2-39f054cfb414"
      },
      "outputs": [
        {
          "data": {
            "text/plain": [
              "Gender  Sarc\n",
              "0       0.0     Axes(0.125,0.11;0.775x0.77)\n",
              "        1.0     Axes(0.125,0.11;0.775x0.77)\n",
              "1       0.0     Axes(0.125,0.11;0.775x0.77)\n",
              "        1.0     Axes(0.125,0.11;0.775x0.77)\n",
              "Name: Age, dtype: object"
            ]
          },
          "execution_count": 46,
          "metadata": {},
          "output_type": "execute_result"
        },
        {
          "data": {
            "image/png": "[encoded data removed]",
            "text/plain": [
              "<Figure size 640x480 with 1 Axes>"
            ]
          },
          "metadata": {},
          "output_type": "display_data"
        }
      ],
      "source": [
        "df.groupby(['Gender','Sarc'])['Age'].hist()"
      ]
    },
    {
      "cell_type": "code",
      "execution_count": null,
      "id": "da07f9aa-088c-46f0-9623-577c0927714f",
      "metadata": {
        "tags": [],
        "id": "da07f9aa-088c-46f0-9623-577c0927714f",
        "outputId": "dbe1413f-8b1a-4190-a6c7-e6061b6ac7b0"
      },
      "outputs": [
        {
          "data": {
            "image/png": "[encoded data removed]",
            "text/plain": [
              "<Figure size 1400x600 with 2 Axes>"
            ]
          },
          "metadata": {},
          "output_type": "display_data"
        }
      ],
      "source": [
        "# 📊 Create two subplots: one for Female (Gender = 0) and one for Male (Gender = 1)\n",
        "fig, axes = plt.subplots(1, 2, figsize=(14, 6), sharey=True)\n",
        "\n",
        "# 🎨 Define colors for Sarcopenia status\n",
        "colors = {0: 'skyblue', 1: 'salmon'}\n",
        "titles = {0: 'Female', 1: 'Male'}\n",
        "\n",
        "# 📊 Loop through each gender\n",
        "for gender, ax in zip([0, 1], axes):\n",
        "    # Group by Sarcopenia within each gender\n",
        "    grouped = df[df['Gender'] == gender].groupby('Sarc')\n",
        "\n",
        "    # Plot each Sarcopenia group within the gender\n",
        "    for sarc_status, group in grouped:\n",
        "        ax.hist(group['Age'], bins=15, alpha=0.7, label=f'Sarc: {sarc_status}',\n",
        "                color=colors[sarc_status], edgecolor='black')\n",
        "\n",
        "    # 📝 Customize plot\n",
        "    ax.set_title(f\"Age Distribution by Sarcopenia Status ({titles[gender]})\")\n",
        "    ax.set_xlabel(\"Age\")\n",
        "    ax.set_ylabel(\"Count\")\n",
        "    ax.legend(title=\"Sarcopenia\")\n",
        "    ax.grid(True)\n",
        "\n",
        "# 🛠️ Adjust layout\n",
        "plt.tight_layout()\n",
        "plt.show()"
      ]
    },
    {
      "cell_type": "code",
      "execution_count": null,
      "id": "ffbfd786-6bca-42bf-bb20-a784ef42d4e6",
      "metadata": {
        "tags": [],
        "id": "ffbfd786-6bca-42bf-bb20-a784ef42d4e6"
      },
      "outputs": [],
      "source": [
        "#Create a similar plot for Weight\n",
        "\n"
      ]
    },
    {
      "cell_type": "code",
      "execution_count": null,
      "id": "8945911f-dca5-44dc-81fb-cb43e4be8e86",
      "metadata": {
        "id": "8945911f-dca5-44dc-81fb-cb43e4be8e86"
      },
      "outputs": [],
      "source": []
    },
    {
      "cell_type": "markdown",
      "id": "304db3d4-e3f3-47b4-8ef0-d7788ed35612",
      "metadata": {
        "tags": [],
        "id": "304db3d4-e3f3-47b4-8ef0-d7788ed35612"
      },
      "source": [
        "### **📊 3. Statistical Testing (T-Test) for Gender Differences**"
      ]
    },
    {
      "cell_type": "code",
      "execution_count": null,
      "id": "b2c213c9-2d71-4609-8b2b-2e486f18b958",
      "metadata": {
        "tags": [],
        "id": "b2c213c9-2d71-4609-8b2b-2e486f18b958",
        "outputId": "5238bbd0-c8ed-4812-ab1e-acd51ad528ab"
      },
      "outputs": [
        {
          "name": "stdout",
          "output_type": "stream",
          "text": [
            "📊 T-test for BMI between Genders:\n",
            "T-statistic = -7.13, p-value = 0.0000\n"
          ]
        }
      ],
      "source": [
        "from scipy.stats import ttest_ind\n",
        "\n",
        "# 📊 T-test for BMI difference between males and females\n",
        "male_bmi = df[df['Gender'] == 1]['BMI']\n",
        "female_bmi = df[df['Gender'] == 0]['BMI']\n",
        "\n",
        "t_stat, p_val = ttest_ind(male_bmi, female_bmi, nan_policy='omit')\n",
        "print(f\"📊 T-test for BMI between Genders:\\nT-statistic = {t_stat:.2f}, p-value = {p_val:.4f}\")"
      ]
    },
    {
      "cell_type": "markdown",
      "id": "cb748631-470b-4911-b79b-41c1b039f758",
      "metadata": {
        "id": "cb748631-470b-4911-b79b-41c1b039f758"
      },
      "source": [
        "- What does it mean to have a small p value?\n",
        "- Can you repat the same test for GRS to see if there is any difference between Male and Female groups"
      ]
    },
    {
      "cell_type": "code",
      "execution_count": null,
      "id": "7e811a1b-d258-40cd-9e7d-ab877a5a1d24",
      "metadata": {
        "tags": [],
        "id": "7e811a1b-d258-40cd-9e7d-ab877a5a1d24"
      },
      "outputs": [],
      "source": []
    },
    {
      "cell_type": "markdown",
      "id": "04d2c6c0-3fb0-4fca-a7eb-64fb33a5d0fe",
      "metadata": {
        "id": "04d2c6c0-3fb0-4fca-a7eb-64fb33a5d0fe"
      },
      "source": [
        "# **🔖 Step 3: Training Gender-Specific Gradient Boosting Models**\n",
        "## **🎯 Objective:**\n",
        "Train two separate Gradient Boosting Models (GBM) for predicting Sarcopenia, one for Male patients and another for Female patients, to capture gender-specific patterns in the data."
      ]
    },
    {
      "cell_type": "markdown",
      "id": "ad5ba3ea-6dde-4e27-8bba-988db1669584",
      "metadata": {
        "id": "ad5ba3ea-6dde-4e27-8bba-988db1669584"
      },
      "source": [
        "### **1. Split the Dataset by Gender**"
      ]
    },
    {
      "cell_type": "code",
      "execution_count": null,
      "id": "af6ff7cb-c1d2-4e05-8183-5494268e3f20",
      "metadata": {
        "tags": [],
        "id": "af6ff7cb-c1d2-4e05-8183-5494268e3f20"
      },
      "outputs": [],
      "source": [
        "from sklearn.preprocessing import StandardScaler, OneHotEncoder\n",
        "from sklearn.compose import ColumnTransformer\n",
        "from sklearn.pipeline import Pipeline\n",
        "from sklearn.ensemble import GradientBoostingClassifier\n",
        "from sklearn.model_selection import train_test_split\n",
        "\n",
        "# 📊 Define features\n",
        "numeric_features = ['Age', 'Weight', 'Height', 'CST', 'HGS', 'BMI']\n",
        "categorical_features = ['DM', 'HT', 'Exercise', 'Education', 'Smoking']\n",
        "target = 'Sarc'\n"
      ]
    },
    {
      "cell_type": "code",
      "execution_count": null,
      "id": "8eb8d825-a611-4778-b918-946880af8348",
      "metadata": {
        "tags": [],
        "id": "8eb8d825-a611-4778-b918-946880af8348"
      },
      "outputs": [],
      "source": [
        "#What makes a feature numerical or categorical?\n",
        "#Why are we grouping features as numeical or categorical?"
      ]
    },
    {
      "cell_type": "code",
      "execution_count": null,
      "id": "2bbc7b27-331c-4031-8924-a4414342c8ab",
      "metadata": {
        "tags": [],
        "id": "2bbc7b27-331c-4031-8924-a4414342c8ab"
      },
      "outputs": [],
      "source": [
        "# 📊 Split data by Gender\n",
        "df_female = ...............\n",
        "df_male = ...................\n",
        "\n"
      ]
    },
    {
      "cell_type": "code",
      "execution_count": null,
      "id": "7b20c3cb-ebcb-4728-9315-0f8f1df2aa7b",
      "metadata": {
        "id": "7b20c3cb-ebcb-4728-9315-0f8f1df2aa7b"
      },
      "outputs": [],
      "source": [
        "# 📊 Train-Test Split for Females\n",
        "X_female = df_female[numeric_features + categorical_features]\n",
        "y_female = df_female[target]\n",
        "X_train_female, X_test_female, y_train_female, y_test_female = train_test_split(X_female, y_female, test_size=0.2, random_state=42)\n"
      ]
    },
    {
      "cell_type": "code",
      "execution_count": null,
      "id": "a5b1556d-ac0b-4851-8fa2-0d2e0607940a",
      "metadata": {
        "id": "a5b1556d-ac0b-4851-8fa2-0d2e0607940a"
      },
      "outputs": [],
      "source": [
        "# 📊 Train-Test Split for Males\n"
      ]
    },
    {
      "cell_type": "markdown",
      "id": "fc64532e-0513-4835-9f50-036c446b22a9",
      "metadata": {
        "id": "fc64532e-0513-4835-9f50-036c446b22a9"
      },
      "source": [
        "### **2. Create a preprocessing pipeline**"
      ]
    },
    {
      "cell_type": "code",
      "execution_count": null,
      "id": "ee946fd5-9c47-4d36-a487-5fb8d46d7d9c",
      "metadata": {
        "tags": [],
        "id": "ee946fd5-9c47-4d36-a487-5fb8d46d7d9c"
      },
      "outputs": [],
      "source": [
        "# ⚙️ Preprocessing pipeline: Scale numeric and encode categorical features\n",
        "\n",
        "# usew Standardscaler() for numerical features and OneHotEncoder for the categorical features\n",
        "preprocessor = ColumnTransformer(\n",
        "    transformers=[\n",
        "        ('num', StandardScaler(), numeric_features),  # Scale numeric features\n",
        "        ('cat', OneHotEncoder(handle_unknown='ignore'), categorical_features)  # Encode categorical features\n",
        "    ]\n",
        ")\n"
      ]
    },
    {
      "cell_type": "markdown",
      "id": "fbb2a99d-249d-48e6-845a-689178025877",
      "metadata": {
        "id": "fbb2a99d-249d-48e6-845a-689178025877"
      },
      "source": [
        "### **2. Train Gradient Boosting Models for Each Gender**"
      ]
    },
    {
      "cell_type": "code",
      "execution_count": null,
      "id": "f6904ce1-3390-4922-95c9-5ab8c641666c",
      "metadata": {
        "tags": [],
        "id": "f6904ce1-3390-4922-95c9-5ab8c641666c"
      },
      "outputs": [],
      "source": [
        "# 📈 Gradient Boosting Classifier with preprocessing for Females\n",
        "pipeline_female = Pipeline(steps=[\n",
        "    ('preprocessor', preprocessor),\n",
        "    ('classifier', GradientBoostingClassifier(n_estimators=200, learning_rate=0.1, max_depth=3, random_state=42))\n",
        "])\n",
        "\n"
      ]
    },
    {
      "cell_type": "code",
      "execution_count": null,
      "id": "edcc3cb2-68c4-499e-a5a5-ff652a2d2d3d",
      "metadata": {
        "id": "edcc3cb2-68c4-499e-a5a5-ff652a2d2d3d"
      },
      "outputs": [],
      "source": [
        "# 📈 Gradient Boosting Classifier with preprocessing for Males\n",
        "...........\n"
      ]
    },
    {
      "cell_type": "code",
      "execution_count": null,
      "id": "ef59594a-8410-44d4-93a9-060ce152a803",
      "metadata": {
        "id": "ef59594a-8410-44d4-93a9-060ce152a803"
      },
      "outputs": [],
      "source": [
        "# 🚀 Train the model for Females\n",
        "pipeline_female.fit(X_train_female, y_train_female)\n",
        "print(\"✅ Gradient Boosting model trained for Female patients.\")\n",
        "\n"
      ]
    },
    {
      "cell_type": "code",
      "execution_count": null,
      "id": "0fb62f3a-d94a-4159-be2a-26169e098332",
      "metadata": {
        "id": "0fb62f3a-d94a-4159-be2a-26169e098332"
      },
      "outputs": [],
      "source": [
        "# 🚀 Train the model for Males\n",
        "............................"
      ]
    },
    {
      "cell_type": "markdown",
      "id": "3d6f881a-a511-4411-b3c4-e060108300e9",
      "metadata": {
        "id": "3d6f881a-a511-4411-b3c4-e060108300e9"
      },
      "source": [
        "### **3. Evaluate Model Performance**"
      ]
    },
    {
      "cell_type": "code",
      "execution_count": null,
      "id": "5b980576-cffe-4fe4-80bf-63cd6a904912",
      "metadata": {
        "tags": [],
        "id": "5b980576-cffe-4fe4-80bf-63cd6a904912"
      },
      "outputs": [],
      "source": [
        "from sklearn.metrics import classification_report, roc_auc_score\n",
        "\n",
        "# 📊 Evaluate Female Model\n",
        "y_pred_female = pipeline_female.predict(X_test_female)\n",
        "y_prob_female = pipeline_female.predict_proba(X_test_female)[:, 1]\n",
        "\n",
        "print(\"📊 Classification Report for Female Model:\")\n",
        "print(classification_report(y_test_female, y_pred_female))\n",
        "print(f\"🔍 ROC AUC Score (Female): {roc_auc_score(y_test_female, y_prob_female):.2f}\")\n",
        "\n"
      ]
    },
    {
      "cell_type": "code",
      "execution_count": null,
      "id": "2abc43b8-70f0-4df0-8571-dff105a5358a",
      "metadata": {
        "id": "2abc43b8-70f0-4df0-8571-dff105a5358a"
      },
      "outputs": [],
      "source": [
        "# 📊 Evaluate Male Model\n",
        "................"
      ]
    },
    {
      "cell_type": "code",
      "execution_count": null,
      "id": "1679c7c1-6b09-4a94-8bff-6dbb59168714",
      "metadata": {
        "tags": [],
        "id": "1679c7c1-6b09-4a94-8bff-6dbb59168714",
        "outputId": "c1b1e4c2-9dba-44aa-8157-00ad6ee5e58d",
        "colab": {
          "referenced_widgets": [
            "8da362489c8e486fae9a74bca154510b"
          ]
        }
      },
      "outputs": [
        {
          "data": {
            "application/vnd.jupyter.widget-view+json": {
              "model_id": "8da362489c8e486fae9a74bca154510b",
              "version_major": 2,
              "version_minor": 0
            },
            "text/plain": [
              "interactive(children=(Dropdown(description='Select Model:', options=('Gradient Boosting', 'Random Forest'), va…"
            ]
          },
          "metadata": {},
          "output_type": "display_data"
        },
        {
          "data": {
            "text/plain": [
              "<function __main__.train_model(choice)>"
            ]
          },
          "execution_count": 58,
          "metadata": {},
          "output_type": "execute_result"
        }
      ],
      "source": [
        "#you need to install ipywidgets\n",
        "#!pip install ipywidgets\n",
        "\n",
        "import ipywidgets as widgets\n",
        "\n",
        "model_choice = widgets.Dropdown(\n",
        "    options=['Gradient Boosting', 'Random Forest'],\n",
        "    value='Gradient Boosting',\n",
        "    description='Select Model:',\n",
        ")\n",
        "\n",
        "def train_model(choice):\n",
        "    if choice == 'Gradient Boosting':\n",
        "        model = GradientBoostingClassifier(n_estimators=100, random_state=42)\n",
        "    else:\n",
        "        from sklearn.ensemble import RandomForestClassifier\n",
        "        model = RandomForestClassifier(n_estimators=100, random_state=42)\n",
        "\n",
        "    pipeline = Pipeline([\n",
        "        ('preprocessor', preprocessor),\n",
        "        ('classifier', model)\n",
        "    ])\n",
        "    pipeline.fit(X_female, y_female)\n",
        "    print(f\"✅ {choice} model trained!\")\n",
        "\n",
        "widgets.interact(train_model, choice=model_choice)"
      ]
    },
    {
      "cell_type": "code",
      "execution_count": null,
      "id": "05e3fa08-73ac-4112-a8c7-bd7ded65e2fd",
      "metadata": {
        "tags": [],
        "id": "05e3fa08-73ac-4112-a8c7-bd7ded65e2fd"
      },
      "outputs": [],
      "source": [
        "# for the selected model that is trained above, evaluate the mode for both male and female.\n",
        "#Print the classification report and AUC score\n",
        "\n",
        "................"
      ]
    },
    {
      "cell_type": "markdown",
      "id": "7bed5493-4e7f-4c96-942f-43a95136e13a",
      "metadata": {
        "id": "7bed5493-4e7f-4c96-942f-43a95136e13a"
      },
      "source": [
        "## **4. Visualize Feature Importance**"
      ]
    },
    {
      "cell_type": "code",
      "execution_count": null,
      "id": "e2ae4782-1710-4614-8bb8-2e3bea161980",
      "metadata": {
        "tags": [],
        "id": "e2ae4782-1710-4614-8bb8-2e3bea161980",
        "outputId": "7b3ec57a-7bfa-48c9-88dd-893a9d5b47f5"
      },
      "outputs": [
        {
          "data": {
            "image/png": "[encoded data removed]",
            "text/plain": [
              "<Figure size 1000x600 with 1 Axes>"
            ]
          },
          "metadata": {},
          "output_type": "display_data"
        },
        {
          "data": {
            "image/png": "[encoded data removed]",
            "text/plain": [
              "<Figure size 1000x600 with 1 Axes>"
            ]
          },
          "metadata": {},
          "output_type": "display_data"
        }
      ],
      "source": [
        "import matplotlib.pyplot as plt\n",
        "\n",
        "# 📊 Extract feature importances after preprocessing\n",
        "def plot_feature_importance(pipeline, feature_names, title):\n",
        "    model = pipeline.named_steps['classifier']\n",
        "    onehot_features = pipeline.named_steps['preprocessor'].transformers_[1][1].get_feature_names_out(categorical_features)\n",
        "    all_features = list(feature_names) + list(onehot_features)\n",
        "\n",
        "    importances = model.feature_importances_\n",
        "\n",
        "    plt.figure(figsize=(10, 6))\n",
        "    plt.barh(all_features, importances)\n",
        "    plt.xlabel(\"Feature Importance Score\")\n",
        "    plt.title(title)\n",
        "    plt.tight_layout()\n",
        "    plt.show()\n",
        "\n",
        "# 📊 Plot Feature Importance for Female Model\n",
        "plot_feature_importance(pipeline_female, numeric_features, \"Feature Importance - Female Model\")\n",
        "\n",
        "# 📊 Plot Feature Importance for Male Model\n",
        "plot_feature_importance(pipeline_male, numeric_features, \"Feature Importance - Male Model\")\n"
      ]
    },
    {
      "cell_type": "markdown",
      "id": "b42dcc75-65b8-4834-9409-84fcc72422d6",
      "metadata": {
        "tags": [],
        "id": "b42dcc75-65b8-4834-9409-84fcc72422d6"
      },
      "source": [
        "# **🔖 Step 4:  Model Calibration and Performance Comparison**\n",
        "## **🎯 Objective**\n",
        "\n",
        "The goal of this step is to calibrate the Gradient Boosting Models (GBMs) trained for male and female patients to improve the reliability of the predicted probabilities for detecting Sarcopenia.\n",
        "\n",
        "Model calibration ensures that the predicted probabilities accurately reflect the true likelihood of the condition, which is crucial in medical decision-making where overconfidence or underconfidence in predictions can lead to misdiagnosis or overtreatment.\n",
        "\n",
        "By comparing the performance of the calibrated and uncalibrated models using metrics like the ROC AUC Score, Brier Score, and Calibration Curves, we aim to:\n",
        "\n",
        "Enhance Probability Accuracy: Align predicted probabilities with actual outcomes, ensuring a 70% predicted probability truly means ~70% chance of Sarcopenia.\n",
        "Support Better Clinical Decisions: Provide healthcare professionals with more reliable risk scores for more accurate patient diagnosis and management.\n",
        "Evaluate Model Improvements: Compare the calibrated models against uncalibrated ones to validate performance improvement in terms of classification and probability estimation.\n",
        "Visualize Calibration: Use calibration curves to visually assess how close the predicted probabilities are to the true event probabilities."
      ]
    },
    {
      "cell_type": "markdown",
      "id": "7c46f870-30f5-469b-b726-a7cd56dee775",
      "metadata": {
        "id": "7c46f870-30f5-469b-b726-a7cd56dee775"
      },
      "source": [
        "### **1.Calibrate the Gradient Boosting Models**"
      ]
    },
    {
      "cell_type": "code",
      "execution_count": null,
      "id": "9d194e63-5fee-4eee-8b24-d1a38df1b537",
      "metadata": {
        "tags": [],
        "id": "9d194e63-5fee-4eee-8b24-d1a38df1b537"
      },
      "outputs": [],
      "source": [
        "from sklearn.calibration import CalibratedClassifierCV\n",
        "\n",
        "# 📊 Calibrate Female Model\n",
        "calibrated_female = CalibratedClassifierCV(estimator=pipeline_female, method='sigmoid', cv=5)\n",
        "calibrated_female.fit(X_train_female, y_train_female)\n",
        "print(\"✅ Femalde Model calibrated successfully.\")"
      ]
    },
    {
      "cell_type": "code",
      "execution_count": null,
      "id": "1bc150ae-35bb-4a53-bdfc-db2c809d58e0",
      "metadata": {
        "id": "1bc150ae-35bb-4a53-bdfc-db2c809d58e0"
      },
      "outputs": [],
      "source": [
        "# 📊 Calibrate Male Model\n",
        "......................"
      ]
    },
    {
      "cell_type": "markdown",
      "id": "a75d7e9d-6ce5-4b10-ab08-3a9f171438bb",
      "metadata": {
        "id": "a75d7e9d-6ce5-4b10-ab08-3a9f171438bb"
      },
      "source": [
        "### **2.Evaluate Calibrated vs. Uncalibrated Models**"
      ]
    },
    {
      "cell_type": "code",
      "execution_count": null,
      "id": "3503c235-1e5b-4a60-8690-a5676180e448",
      "metadata": {
        "tags": [],
        "id": "3503c235-1e5b-4a60-8690-a5676180e448"
      },
      "outputs": [],
      "source": [
        "from sklearn.metrics import classification_report, roc_auc_score, brier_score_loss\n",
        "\n",
        "# 📊 Evaluate Female Model\n",
        "# --- Uncalibrated ---\n",
        "y_prob_female_uncal = pipeline_female.predict_proba(X_test_female)[:, 1]\n",
        "y_pred_female_uncal = pipeline_female.predict(X_test_female)\n",
        "\n",
        "# --- Calibrated ---\n",
        "y_prob_female_cal = calibrated_female.predict_proba(X_test_female)[:, 1]\n",
        "y_pred_female_cal = calibrated_female.predict(X_test_female)\n",
        "\n",
        "\n",
        "\n",
        "# 📊 Compare Classification Reports\n",
        "print(\"📊 Female Model (Uncalibrated):\")\n",
        "print(classification_report(y_test_female, y_pred_female_uncal))\n",
        "print(f\"🔍 ROC AUC (Uncalibrated): {roc_auc_score(y_test_female, y_prob_female_uncal):.2f}\")\n",
        "print(f\"🔍 Brier Score (Uncalibrated): {brier_score_loss(y_test_female, y_prob_female_uncal):.4f}\")\n",
        "\n",
        "print(\"\\n📊 Female Model (Calibrated):\")\n",
        "print(classification_report(y_test_female, y_pred_female_cal))\n",
        "print(f\"🔍 ROC AUC (Calibrated): {roc_auc_score(y_test_female, y_prob_female_cal):.2f}\")\n",
        "print(f\"🔍 Brier Score (Calibrated): {brier_score_loss(y_test_female, y_prob_female_cal):.4f}\")\n",
        "\n"
      ]
    },
    {
      "cell_type": "code",
      "execution_count": null,
      "id": "f6ab4f0b-b4f6-4d1e-adc9-2a56e2f75bdc",
      "metadata": {
        "id": "f6ab4f0b-b4f6-4d1e-adc9-2a56e2f75bdc"
      },
      "outputs": [],
      "source": [
        "# 📊 Evaluate Male Model for both uncalibrated and calibrated models\n"
      ]
    },
    {
      "cell_type": "code",
      "execution_count": null,
      "id": "9198342c-a7e2-4b7b-b587-0a938d696645",
      "metadata": {
        "id": "9198342c-a7e2-4b7b-b587-0a938d696645"
      },
      "outputs": [],
      "source": [
        "# Print the classification report as well as the AUC score for both calibrated\n",
        "# and uncalibrated male model\n",
        "\n"
      ]
    },
    {
      "cell_type": "markdown",
      "id": "54012d26-80c4-41fa-b452-86799ebe66ca",
      "metadata": {
        "id": "54012d26-80c4-41fa-b452-86799ebe66ca"
      },
      "source": [
        "### **3.Visualize Calibration with Reliability Curves**"
      ]
    },
    {
      "cell_type": "code",
      "execution_count": null,
      "id": "301af726-a5e1-49bb-b0db-9c5606ddd4f6",
      "metadata": {
        "tags": [],
        "id": "301af726-a5e1-49bb-b0db-9c5606ddd4f6"
      },
      "outputs": [],
      "source": [
        "from sklearn.calibration import calibration_curve\n",
        "import matplotlib.pyplot as plt\n",
        "\n",
        "def plot_calibration(y_true, y_prob_uncal, y_prob_cal, title):\n",
        "    plt.figure(figsize=(8, 6))\n",
        "\n",
        "    # 📊 Calibration curves\n",
        "    prob_true_uncal, prob_pred_uncal = calibration_curve(y_true, y_prob_uncal, n_bins=10)\n",
        "    prob_true_cal, prob_pred_cal = calibration_curve(y_true, y_prob_cal, n_bins=10)\n",
        "\n",
        "    # 📈 Plot uncalibrated model\n",
        "    plt.plot(prob_pred_uncal, prob_true_uncal, label=\"Uncalibrated\", marker='o')\n",
        "\n",
        "    # 📈 Plot calibrated model\n",
        "    plt.plot(prob_pred_cal, prob_true_cal, label=\"Calibrated\", marker='o')\n",
        "\n",
        "    # 📉 Perfect calibration line\n",
        "    plt.plot([0, 1], [0, 1], linestyle='--', color='black')\n",
        "\n",
        "    plt.xlabel(\"Mean Predicted Probability\")\n",
        "    plt.ylabel(\"True Probability\")\n",
        "    plt.title(title)\n",
        "    plt.legend()\n",
        "    plt.grid(True)\n",
        "    plt.show()\n",
        "\n",
        "# 📊 Plot Calibration Curve for Female Model\n",
        "plot_calibration(y_test_female, y_prob_female_uncal, y_prob_female_cal, \"Calibration Curve - Female Model\")\n",
        "\n"
      ]
    },
    {
      "cell_type": "code",
      "execution_count": null,
      "id": "701080d0-0bb1-4f31-9961-0ee285836ada",
      "metadata": {
        "id": "701080d0-0bb1-4f31-9961-0ee285836ada"
      },
      "outputs": [],
      "source": []
    },
    {
      "cell_type": "code",
      "execution_count": null,
      "id": "491e883d-b39f-4ecb-9d87-145e5e0e7c62",
      "metadata": {
        "id": "491e883d-b39f-4ecb-9d87-145e5e0e7c62"
      },
      "outputs": [],
      "source": [
        "# 📊 Plot Calibration Curve for Male Model\n",
        "................."
      ]
    },
    {
      "cell_type": "markdown",
      "id": "bf2b9a4b-cb58-480f-ab01-1220799fadb9",
      "metadata": {
        "id": "bf2b9a4b-cb58-480f-ab01-1220799fadb9"
      },
      "source": [
        "# **🔖 Step 5:  Fine-Tuning the Decision Threshold to Balance Precision and Recall**\n",
        "## **🎯 Objective**\n",
        "The objective of this step is to fine-tune the decision threshold for the calibrated Gradient Boosting Models to achieve an optimal balance between precision and recall in predicting Sarcopenia.\n",
        "\n",
        "In medical diagnosis, using the default threshold of 0.5 may not always be ideal. By adjusting the decision threshold, we can:\n",
        "\n",
        "Improve Recall (Sensitivity): Minimize False Negatives to ensure high-risk patients are correctly identified.\n",
        "Control Precision (Specificity): Reduce False Positives to avoid unnecessary treatment for healthy patients.\n",
        "Balance Trade-offs: Find the best threshold that minimizes risks of both misdiagnosis and overtreatment."
      ]
    },
    {
      "cell_type": "markdown",
      "id": "405974c8-b7cf-4c7f-b81c-3a68c1d1187c",
      "metadata": {
        "id": "405974c8-b7cf-4c7f-b81c-3a68c1d1187c"
      },
      "source": [
        "### **1. Analyze Precision-Recall vs. Threshold**"
      ]
    },
    {
      "cell_type": "code",
      "execution_count": null,
      "id": "66a31c9d-dac7-48e1-816b-017fa5b0ef53",
      "metadata": {
        "tags": [],
        "id": "66a31c9d-dac7-48e1-816b-017fa5b0ef53"
      },
      "outputs": [],
      "source": [
        "from sklearn.metrics import precision_recall_curve\n",
        "import matplotlib.pyplot as plt\n",
        "\n",
        "def plot_precision_recall_vs_threshold(y_true, y_probs, title):\n",
        "    precision, recall, thresholds = precision_recall_curve(y_true, y_probs)\n",
        "\n",
        "    plt.figure(figsize=(8, 6))\n",
        "    plt.plot(thresholds, precision[:-1], label=\"Precision\", color='b')\n",
        "    plt.plot(thresholds, recall[:-1], label=\"Recall\", color='g')\n",
        "    plt.xlabel(\"Decision Threshold\")\n",
        "    plt.ylabel(\"Score\")\n",
        "    plt.title(title)\n",
        "    plt.legend()\n",
        "    plt.grid(True)\n",
        "    plt.show()\n",
        "\n",
        "# 📊 Plot for Female Model\n",
        "plot_precision_recall_vs_threshold(y_test_female, y_prob_female_cal, \"Precision-Recall vs Threshold (Female)\")\n"
      ]
    },
    {
      "cell_type": "code",
      "execution_count": null,
      "id": "70179966-70e9-47ef-a0c8-1f6fec4392bf",
      "metadata": {
        "id": "70179966-70e9-47ef-a0c8-1f6fec4392bf"
      },
      "outputs": [],
      "source": []
    },
    {
      "cell_type": "code",
      "execution_count": null,
      "id": "d2b8f4f1-232d-42a3-8302-afcb1a0cb7e7",
      "metadata": {
        "id": "d2b8f4f1-232d-42a3-8302-afcb1a0cb7e7"
      },
      "outputs": [],
      "source": [
        "# 📊 Plot the precision and recall curve for Male Model\n",
        "................."
      ]
    },
    {
      "cell_type": "markdown",
      "id": "b42eb198-0db4-4096-85c2-c5b49e2ad080",
      "metadata": {
        "id": "b42eb198-0db4-4096-85c2-c5b49e2ad080"
      },
      "source": [
        "### **2. Apply the optimized threshold**"
      ]
    },
    {
      "cell_type": "code",
      "execution_count": null,
      "id": "f85ca2c6-c02e-466a-bed8-c9041f5533e4",
      "metadata": {
        "tags": [],
        "id": "f85ca2c6-c02e-466a-bed8-c9041f5533e4"
      },
      "outputs": [],
      "source": [
        "# 🎯 Set optimized thresholds for female\n",
        "optimized_threshold_female = 0.35  # Example value based on the plot\n",
        "\n",
        "# 📊 Apply threshold to predictions\n",
        "y_pred_female_optimized = (y_prob_female_cal >= optimized_threshold_female).astype(int)\n"
      ]
    },
    {
      "cell_type": "code",
      "execution_count": null,
      "id": "deb00f24-38c1-4630-b94c-c8749049fe72",
      "metadata": {
        "id": "deb00f24-38c1-4630-b94c-c8749049fe72"
      },
      "outputs": [],
      "source": [
        "#Set optimized thresholds for male\n",
        "#Apply threshold to predictions\n",
        "\n",
        "........................"
      ]
    },
    {
      "cell_type": "code",
      "execution_count": null,
      "id": "17f24c50-6dad-4bcd-8042-1f524bd346dd",
      "metadata": {
        "id": "17f24c50-6dad-4bcd-8042-1f524bd346dd"
      },
      "outputs": [],
      "source": []
    },
    {
      "cell_type": "markdown",
      "id": "c249c40d-2d1b-4be4-8a9d-57a69d6a2af6",
      "metadata": {
        "id": "c249c40d-2d1b-4be4-8a9d-57a69d6a2af6"
      },
      "source": [
        "### **3. Evaluate model performance with the new threshold**"
      ]
    },
    {
      "cell_type": "code",
      "execution_count": null,
      "id": "85655011-4dde-4e47-8c8a-9e5c68f6c190",
      "metadata": {
        "tags": [],
        "id": "85655011-4dde-4e47-8c8a-9e5c68f6c190"
      },
      "outputs": [],
      "source": [
        "from sklearn.metrics import classification_report, confusion_matrix\n",
        "\n",
        "# 📊 Evaluate Female Model\n",
        "\n",
        "# 📊 Confusion Matrix for Female Model\n",
        "\n",
        "\n"
      ]
    },
    {
      "cell_type": "code",
      "execution_count": null,
      "id": "bc72bae6-108f-4cc1-bb72-6252e8a64aa6",
      "metadata": {
        "id": "bc72bae6-108f-4cc1-bb72-6252e8a64aa6"
      },
      "outputs": [],
      "source": [
        "# 📊 Evaluate Male Model\n",
        "\n",
        "\n",
        "# 📊 Confusion Matrix for Male Model\n"
      ]
    },
    {
      "cell_type": "markdown",
      "id": "c2f4498c-f77e-41ec-bd7a-15beb0441b9b",
      "metadata": {
        "id": "c2f4498c-f77e-41ec-bd7a-15beb0441b9b"
      },
      "source": [
        "### **4. Visualize the impact of the threshold**"
      ]
    },
    {
      "cell_type": "code",
      "execution_count": null,
      "id": "a1a944a4-0830-4e82-9b71-dddb1abc6e47",
      "metadata": {
        "tags": [],
        "id": "a1a944a4-0830-4e82-9b71-dddb1abc6e47"
      },
      "outputs": [],
      "source": [
        "def plot_confusion_matrix(cm, title):\n",
        "    plt.figure(figsize=(5, 4))\n",
        "    plt.imshow(cm, interpolation='nearest', cmap='Blues')\n",
        "    plt.title(title)\n",
        "    plt.colorbar()\n",
        "    tick_marks = [0, 1]\n",
        "    plt.xticks(tick_marks, ['No Sarcopenia', 'Sarcopenia'])\n",
        "    plt.yticks(tick_marks, ['No Sarcopenia', 'Sarcopenia'])\n",
        "\n",
        "    plt.xlabel('Predicted Label')\n",
        "    plt.ylabel('True Label')\n",
        "    plt.grid(False)\n",
        "\n",
        "    for i in range(2):\n",
        "        for j in range(2):\n",
        "            plt.text(j, i, format(cm[i, j], 'd'), ha=\"center\", va=\"center\", color=\"black\")\n",
        "\n",
        "    plt.tight_layout()\n",
        "    plt.show()\n",
        "\n",
        "# 📊 Plot Confusion Matrices\n",
        "plot_confusion_matrix(cm_female, \"Confusion Matrix (Female - Optimized Threshold)\")"
      ]
    },
    {
      "cell_type": "code",
      "execution_count": null,
      "id": "e48d77dc-068e-407b-be0f-def3f51408df",
      "metadata": {
        "id": "e48d77dc-068e-407b-be0f-def3f51408df"
      },
      "outputs": [],
      "source": [
        "plot_confusion_matrix(cm_male, \"Confusion Matrix (Male - Optimized Threshold)\")"
      ]
    },
    {
      "cell_type": "code",
      "execution_count": null,
      "id": "b450fcbf-2dee-4926-9c44-2808cf53e346",
      "metadata": {
        "id": "b450fcbf-2dee-4926-9c44-2808cf53e346",
        "outputId": "9f2d2747-6507-4101-d2a5-2ad0faedadb6",
        "colab": {
          "referenced_widgets": [
            "8b0aaf44972a440da7db16e4e16b11c1"
          ]
        }
      },
      "outputs": [
        {
          "data": {
            "application/vnd.jupyter.widget-view+json": {
              "model_id": "8b0aaf44972a440da7db16e4e16b11c1",
              "version_major": 2,
              "version_minor": 0
            },
            "text/plain": [
              "interactive(children=(FloatSlider(value=0.5, description='Threshold:', max=0.9, min=0.1, step=0.05), Output())…"
            ]
          },
          "metadata": {},
          "output_type": "display_data"
        },
        {
          "data": {
            "text/plain": [
              "<function __main__.adjust_threshold(threshold)>"
            ]
          },
          "execution_count": 70,
          "metadata": {},
          "output_type": "execute_result"
        }
      ],
      "source": [
        "threshold_slider = widgets.FloatSlider(value=0.5, min=0.1, max=0.9, step=0.05, description='Threshold:')\n",
        "\n",
        "def adjust_threshold(threshold):\n",
        "    y_pred_thresh = (calibrated_female.predict_proba(X_female)[:, 1] >= threshold).astype(int)\n",
        "    from sklearn.metrics import classification_report\n",
        "    print(classification_report(y_female, y_pred_thresh))\n",
        "\n",
        "widgets.interact(adjust_threshold, threshold=threshold_slider)"
      ]
    },
    {
      "cell_type": "code",
      "execution_count": null,
      "id": "8c1183fa-af71-40b7-9979-aea8959f187b",
      "metadata": {
        "id": "8c1183fa-af71-40b7-9979-aea8959f187b",
        "outputId": "7850ff7f-bf5e-4c90-ec36-dcad46ee7df6",
        "colab": {
          "referenced_widgets": [
            "b9b7ae7db4314f4181139fa3f09b489e"
          ]
        }
      },
      "outputs": [
        {
          "data": {
            "application/vnd.jupyter.widget-view+json": {
              "model_id": "b9b7ae7db4314f4181139fa3f09b489e",
              "version_major": 2,
              "version_minor": 0
            },
            "text/plain": [
              "interactive(children=(FloatSlider(value=0.44999999999999996, description='Threshold:', max=0.9, min=0.1, step=…"
            ]
          },
          "metadata": {},
          "output_type": "display_data"
        },
        {
          "data": {
            "text/plain": [
              "<function __main__.adjust_threshold(threshold)>"
            ]
          },
          "execution_count": 71,
          "metadata": {},
          "output_type": "execute_result"
        }
      ],
      "source": [
        "def adjust_threshold(threshold):\n",
        "    y_pred_thresh = (calibrated_male.predict_proba(X_female)[:, 1] >= threshold).astype(int)\n",
        "    from sklearn.metrics import classification_report\n",
        "    print(classification_report(y_female, y_pred_thresh))\n",
        "\n",
        "widgets.interact(adjust_threshold, threshold=threshold_slider)"
      ]
    },
    {
      "cell_type": "code",
      "source": [],
      "metadata": {
        "id": "8pchYxV7WYAe"
      },
      "id": "8pchYxV7WYAe",
      "execution_count": null,
      "outputs": []
    },
    {
      "cell_type": "markdown",
      "id": "9974dc86-833a-4668-83d5-dcd679926ceb",
      "metadata": {
        "id": "9974dc86-833a-4668-83d5-dcd679926ceb"
      },
      "source": [
        "# END OF THE FIRST SESSION\n",
        "\n",
        "\n",
        "# Thank you for listening"
      ]
    },
    {
      "cell_type": "code",
      "execution_count": null,
      "id": "29dbb87f-6dd6-44d0-820c-dcc87398c9ae",
      "metadata": {
        "id": "29dbb87f-6dd6-44d0-820c-dcc87398c9ae"
      },
      "outputs": [],
      "source": []
    }
  ],
  "metadata": {
    "kernelspec": {
      "display_name": "Python 3 (ipykernel)",
      "language": "python",
      "name": "python3"
    },
    "language_info": {
      "codemirror_mode": {
        "name": "ipython",
        "version": 3
      },
      "file_extension": ".py",
      "mimetype": "text/x-python",
      "name": "python",
      "nbconvert_exporter": "python",
      "pygments_lexer": "ipython3",
      "version": "3.11.4"
    },
    "colab": {
      "provenance": [],
      "include_colab_link": true
    }
  },
  "nbformat": 4,
  "nbformat_minor": 5
}